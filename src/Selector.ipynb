{
 "cells": [
  {
   "cell_type": "markdown",
   "metadata": {},
   "source": [
    "# Seletor de alunos\n",
    "\n",
    "Este notebook tem o objetivo de ordenar os alunos inscritos no Processo Seletivo de alunos do 2 Semestre de 2020 de acordo com a prioridade de matrícula.\n",
    "[Link Github](https://github.com/ChrisKonishi/Student-Selector)\n",
    "\n",
    "- A próxima célula serve apenas caso esteja no Google Colab\n",
    "- A terceira célula contém os parâmtros necessário para rodar o algoritmo.\n",
    "- Tenha as respostas do formulário de inscrição em um arquivo csv.\n",
    "\n"
   ]
  },
  {
   "cell_type": "code",
   "execution_count": null,
   "metadata": {},
   "outputs": [],
   "source": [
    "#Setup"
   ]
  },
  {
   "cell_type": "code",
   "execution_count": 1,
   "metadata": {},
   "outputs": [],
   "source": [
    "#Running"
   ]
  }
 ],
 "metadata": {
  "kernelspec": {
   "display_name": "Python 3",
   "language": "python",
   "name": "python3"
  },
  "language_info": {
   "codemirror_mode": {
    "name": "ipython",
    "version": 3
   },
   "file_extension": ".py",
   "mimetype": "text/x-python",
   "name": "python",
   "nbconvert_exporter": "python",
   "pygments_lexer": "ipython3",
   "version": "3.8.3"
  }
 },
 "nbformat": 4,
 "nbformat_minor": 4
}