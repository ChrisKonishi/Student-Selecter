{
 "cells": [
  {
   "cell_type": "code",
   "execution_count": null,
   "metadata": {},
   "outputs": [],
   "source": [
    "#Setup\n",
    "\n",
    "#Leitura das inscricoes\n",
    "arquivo_csv = \"Inscrições de Alunos - 2020.2S.csv\"\n",
    "\n",
    "materias = [\"Inglês\", \"Matemática\", \"Ciências\", \"Programação\", \"Humanidades\", \"Desenho\"]\n",
    "\n",
    "atributos = {\n",
    "    \"Era Ales\": \"Já era aluno do Projeto ALES?\",\n",
    "    \"Nome\": \"Nome completo do aluno\",\n",
    "    \"Celular aluno\": \"Coloque aqui seu WhatsApp com DDD. Se não tiver, coloque o do responsável.\",\n",
    "    \"Email aluno\": \"Coloque seu e-mail. Se não tiver, coloque o do responsável.\",\n",
    "    \"Ano\": \"Série ou ano Cursad@\",\n",
    "    \"Escola\": \"Nome da Escola\",\n",
    "    \"É Particular\": \"Qual tipo da escola?\",\n",
    "    \"É bolsista\": \"Se você é de escola particular, você é bolsista na sua escola?\",\n",
    "    \"É de Campinas\": \"Sua escola é de Campinas ou você estuda em Campinas?\",\n",
    "    \"Cidade\": \"Se não, de qual cidade é a escola?\",\n",
    "    \"Inglês\": \"Quais são suas matérias de interesse? [Inglês]\",\n",
    "    \"Matemática\": \"Quais são suas matérias de interesse? [Matématica]\",\n",
    "    \"Ciências\": \"Quais são suas matérias de interesse? [Ciências]\",\n",
    "    \"Programação\": \"Quais são suas matérias de interesse? [Programação]\",\n",
    "    \"Humanidades\": \"Quais são suas matérias de interesse? [Humanidades]\",\n",
    "    \"Desenho\": \"Quais são suas matérias de interesse? [Desenho]\"\n",
    "}"
   ]
  },
  {
   "cell_type": "code",
   "execution_count": null,
   "metadata": {
    "tags": []
   },
   "outputs": [],
   "source": [
    "#Testing\n",
    "from Student_reader import Student_reader\n",
    "\n",
    "data = Student_reader(arquivo_csv, materias, atributos)\n",
    "print(data.get_all_students()[0])\n",
    "\n",
    "all = data.get_student_subject()\n",
    "\n",
    "for i in materias:\n",
    "    print(\"\\n\" + i)\n",
    "    for j in all[i]:\n",
    "        print(j)"
   ]
  },
  {
   "cell_type": "code",
   "execution_count": null,
   "metadata": {},
   "outputs": [],
   "source": []
  }
 ],
 "metadata": {
  "kernelspec": {
   "display_name": "Python 3",
   "language": "python",
   "name": "python3"
  },
  "language_info": {
   "codemirror_mode": {
    "name": "ipython",
    "version": 3
   },
   "file_extension": ".py",
   "mimetype": "text/x-python",
   "name": "python",
   "nbconvert_exporter": "python",
   "pygments_lexer": "ipython3",
   "version": "3.8.3-final"
  }
 },
 "nbformat": 4,
 "nbformat_minor": 4
}